{
 "cells": [
  {
   "cell_type": "code",
   "execution_count": 1,
   "metadata": {
    "collapsed": false
   },
   "outputs": [
    {
     "data": {
      "text/plain": [
       "my_lin_interp (generic function with 1 method)"
      ]
     },
     "execution_count": 1,
     "metadata": {},
     "output_type": "execute_result"
    }
   ],
   "source": [
    "function my_lin_interp(grid,vals)\n",
    "    function func(x)\n",
    "        if x < grid[1]\n",
    "            y = \"Error!\"\n",
    "            return y\n",
    "        end\n",
    "        if x > grid[end]\n",
    "            y = \"Error!\"\n",
    "            return y\n",
    "        end\n",
    "        if grid[1] <= x < grid[end]\n",
    "            i = searchsortedlast(grid, x)\n",
    "            y = (vals[i+1]-vals[i])/(grid[i+1]-grid[i])*(x-grid[i])+vals[i]\n",
    "            return y\n",
    "        end\n",
    "        if x == grid[end]\n",
    "            y = vals[end]\n",
    "        end\n",
    "    end\n",
    "    return func\n",
    "end"
   ]
  },
  {
   "cell_type": "code",
   "execution_count": null,
   "metadata": {
    "collapsed": true
   },
   "outputs": [],
   "source": []
  }
 ],
 "metadata": {
  "kernelspec": {
   "display_name": "Julia 0.4.5",
   "language": "julia",
   "name": "julia-0.4"
  },
  "language_info": {
   "file_extension": ".jl",
   "mimetype": "application/julia",
   "name": "julia",
   "version": "0.4.5"
  }
 },
 "nbformat": 4,
 "nbformat_minor": 0
}
