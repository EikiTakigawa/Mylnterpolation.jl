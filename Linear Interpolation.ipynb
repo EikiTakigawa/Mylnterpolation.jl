{
 "cells": [
  {
   "cell_type": "code",
   "execution_count": 1,
   "metadata": {
    "collapsed": false
   },
   "outputs": [
    {
     "data": {
      "text/plain": [
       "my_lin_interp (generic function with 1 method)"
      ]
     },
     "execution_count": 1,
     "metadata": {},
     "output_type": "execute_result"
    }
   ],
   "source": [
    "function my_lin_interp(grid,vals)\n",
    "    function func(x)\n",
    "        if x < grid[1]\n",
    "            print(\"Error!\")\n",
    "        end\n",
    "        if x > grid[end]\n",
    "            print(\"Error!\")\n",
    "        end\n",
    "        if x == grid[end]\n",
    "            print(vals[end])\n",
    "        end\n",
    "        if grid[1] <= x < grid[end]\n",
    "            i = 1\n",
    "            while true\n",
    "                k = searchsortedlast(grid, x) - b[i]\n",
    "                if k == 0\n",
    "                    break\n",
    "                end\n",
    "                i = i + 1\n",
    "            end\n",
    "            (vals[i+1]-vals[i])/(grid[i+1]-grid[i])*(x-grid[i])+vals[i]\n",
    "        end\n",
    "    end\n",
    "    return func\n",
    "end"
   ]
  },
  {
   "cell_type": "code",
   "execution_count": null,
   "metadata": {
    "collapsed": true
   },
   "outputs": [],
   "source": []
  }
 ],
 "metadata": {
  "kernelspec": {
   "display_name": "Julia 0.4.5",
   "language": "julia",
   "name": "julia-0.4"
  },
  "language_info": {
   "file_extension": ".jl",
   "mimetype": "application/julia",
   "name": "julia",
   "version": "0.4.5"
  }
 },
 "nbformat": 4,
 "nbformat_minor": 0
}
